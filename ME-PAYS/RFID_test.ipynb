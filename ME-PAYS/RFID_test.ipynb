{
 "cells": [
  {
   "cell_type": "code",
   "execution_count": 7,
   "id": "b4af99e9-daf4-4210-bbd5-99221dc59573",
   "metadata": {},
   "outputs": [
    {
     "name": "stdout",
     "output_type": "stream",
     "text": [
      "No serial ports found.\n"
     ]
    }
   ],
   "source": [
    "import serial.tools.list_ports\n",
    "\n",
    "ports = list(serial.tools.list_ports.comports())  # Use list() to force evaluation of the generator\n",
    "\n",
    "if len(ports) == 0:\n",
    "    print(\"No serial ports found.\")\n",
    "else:\n",
    "    for port in ports:\n",
    "        print(f\"Port: {port.device} - Description: {port.description}\")\n"
   ]
  },
  {
   "cell_type": "code",
   "execution_count": null,
   "id": "de824d0c-43b7-4b17-bd05-25f4692c15f6",
   "metadata": {},
   "outputs": [],
   "source": []
  }
 ],
 "metadata": {
  "kernelspec": {
   "display_name": "Python 3 (ipykernel)",
   "language": "python",
   "name": "python3"
  },
  "language_info": {
   "codemirror_mode": {
    "name": "ipython",
    "version": 3
   },
   "file_extension": ".py",
   "mimetype": "text/x-python",
   "name": "python",
   "nbconvert_exporter": "python",
   "pygments_lexer": "ipython3",
   "version": "3.11.3"
  }
 },
 "nbformat": 4,
 "nbformat_minor": 5
}
